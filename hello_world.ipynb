{
 "cells": [
  {
   "cell_type": "markdown",
   "metadata": {},
   "source": [
    "# Execução de código C no Jupyter Notebook\n",
    "\n",
    "Esse notebook descreve o processo empregado para gerar e executar um programa a partir de código C."
   ]
  },
  {
   "cell_type": "code",
   "execution_count": 1,
   "metadata": {},
   "outputs": [
    {
     "name": "stdout",
     "output_type": "stream",
     "text": [
      "Writing intro.c\n"
     ]
    }
   ],
   "source": [
    "%%file intro.c\n",
    "#include <stdio.h>\n",
    "\n",
    "int main(){\n",
    "    printf(\"Hello world!!!\");\n",
    "    \n",
    "    return 0;\n",
    "}"
   ]
  },
  {
   "cell_type": "markdown",
   "metadata": {},
   "source": [
    "O código acima cria um arquivo.c chamado \"intro\" na pasta onde este notebook foi salvo. \n",
    "O comando \"%%file\" do IPython coloca o conteúdo que segue (código C) em um arquivo nomeado por seu parâmetro. No caso, no arquivo intro.c."
   ]
  },
  {
   "cell_type": "code",
   "execution_count": 3,
   "metadata": {},
   "outputs": [
    {
     "name": "stdout",
     "output_type": "stream",
     "text": [
      "Hello world!!!"
     ]
    }
   ],
   "source": [
    "%%bash\n",
    "gcc intro.c -o programa\n",
    "./programa"
   ]
  },
  {
   "cell_type": "markdown",
   "metadata": {},
   "source": [
    "O comando \"%%bash\" do IPython permite a execução do código que segue a partir do bash. \n",
    "O que significa que o código que segue será executado pelo bash (execução de um script). Assim, quando o script for executado, ele irá compilar o código C do arquivo intro.c e gerar um arquivo executável chamado de \"programa\" como saída. Em seguida, o arquivo de saída será executado.\n",
    " \n",
    "Obs: no Windows utilize “%%cmd” para executar seu script."
   ]
  }
 ],
 "metadata": {
  "kernelspec": {
   "display_name": "Python 3",
   "language": "python",
   "name": "python3"
  },
  "language_info": {
   "codemirror_mode": {
    "name": "ipython",
    "version": 3
   },
   "file_extension": ".py",
   "mimetype": "text/x-python",
   "name": "python",
   "nbconvert_exporter": "python",
   "pygments_lexer": "ipython3",
   "version": "3.8.10"
  },
  "orig_nbformat": 4
 },
 "nbformat": 4,
 "nbformat_minor": 2
}
