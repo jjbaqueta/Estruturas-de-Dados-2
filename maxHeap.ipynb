{
 "cells": [
  {
   "cell_type": "markdown",
   "metadata": {},
   "source": [
    "# Heap máximo\n",
    "\n",
    "Esse arquivo contém a implementação de um Heap binário (Max-heap).\n",
    "\n",
    "Lembre-se, o comando “%%file” é utilizado pelo python para criar os arquivos .h e .c em sua máquina local (no diretório onde este notebook está salvo). Os arquivos criados são nomeado de acordo com o identificador que aparece após o comando “%%file”."
   ]
  },
  {
   "cell_type": "markdown",
   "metadata": {},
   "source": [
    "Especificação do Heap:"
   ]
  },
  {
   "cell_type": "code",
   "execution_count": 1,
   "metadata": {},
   "outputs": [
    {
     "name": "stdout",
     "output_type": "stream",
     "text": [
      "Writing Nodo.h\n"
     ]
    }
   ],
   "source": [
    "%%file MaxHeap.h\n",
    "\n",
    "#ifndef MAX_HEAP_H\n",
    "#define MAX_HEAP_H\n",
    "\n",
    "typedef struct {\n",
    "    int* vetor;\n",
    "    int capacidade;\n",
    "} MaxHeap;\n",
    "\n",
    "/*\n",
    " * Função para alocar o heap em memória.\n",
    "*/\n",
    "MaxHeap* criarMaxHeap(int capacidade);\n",
    "\n",
    "/*\n",
    " * Função para inserir uma chave no heap.\n",
    " * Parâmetro: heap - ponteiro para o heap.\n",
    " * Parâmetro: chave - chave que será inserida no heap.\n",
    "*/\n",
    "void inserir(MaxHeap* heap, int chave);\n",
    "\n",
    "/*\n",
    " * Função para remover uma chave do heap (remove sempre o maior elemento - raiz).\n",
    " * Parâmetro: heap - ponteiro para o heap.\n",
    " * Retorno: maior elemento no heap ou -1 se o heap estiver vazio.\n",
    "*/\n",
    "int remover(MaxHeap* heap);\n",
    "/*\n",
    " * Função para imprimir o heap.\n",
    " * Parâmetro: heap - ponteiro para o heap.\n",
    "*/\n",
    "void imprimirHeap(MaxHeap* heap);\n",
    "\n",
    "/*\n",
    " * Função para desalocar o heap passado por parâmetro da memória.\n",
    " * Parâmetro: heap - ponteiro para o heap.\n",
    "*/\n",
    "void destruirHeap(MaxHeap* heap);\n",
    "\n",
    "#endif"
   ]
  },
  {
   "cell_type": "markdown",
   "metadata": {},
   "source": [
    "Implementação do Heap:"
   ]
  },
  {
   "cell_type": "code",
   "execution_count": 2,
   "metadata": {},
   "outputs": [
    {
     "name": "stdout",
     "output_type": "stream",
     "text": [
      "Writing Nodo.c\n"
     ]
    }
   ],
   "source": [
    "%%file MaxHeap.c\n",
    "\n",
    "#include <stdio.h>\n",
    "#include <stdlib.h>\n",
    "#include \"MaxHeap.h\"\n",
    "\n",
    "/*\n",
    " * FUNÇÃO PRIVADA\n",
    " *\n",
    " * Função para trocar os valores de duas variáveis.\n",
    " * Parâmetro: v1 - ponteiro para a variável 1.\n",
    " * Parâmetro: v2 - ponteiro para a variável 2.\n",
    "*/\n",
    "void troca(int *v1, int *v2) {\n",
    "    int aux = *v1;\n",
    "    *v1 = *v2;\n",
    "    *v2 = aux;\n",
    "}\n",
    "\n",
    "/*\n",
    " * FUNÇÃO PRIVADA\n",
    " *\n",
    " * Função para ajustar o heap. \n",
    " * Garante que os filhos de um nodo sejam menores ou iguais ao pai.\n",
    " * Parâmetro: heap - ponteiro para o heap.\n",
    " * Parâmetro: i - índice do nodo pai.\n",
    "*/\n",
    "void heapify(MaxHeap* heap, int i) {\n",
    "    int maior = i;\n",
    "    int filhoEsquerda = 2 * i;\n",
    "    int filhoDireita = 2 * i + 1;\n",
    "    \n",
    "    // Nodo pai possui dois filhos\n",
    "    if (filhoEsquerda <= heap->vetor[0] && filhoDireita <= heap->vetor[0]) {\n",
    "        if (heap->vetor[filhoEsquerda] > heap->vetor[maior] && heap->vetor[filhoEsquerda] > heap->vetor[filhoDireita]) {\n",
    "            maior = filhoEsquerda;\n",
    "        }\n",
    "        else if (heap->vetor[filhoDireita] > heap->vetor[maior] && heap->vetor[filhoDireita] > heap->vetor[filhoEsquerda]) {\n",
    "            maior = filhoDireita;\n",
    "        }\n",
    "    }\n",
    "    // Nodo pai possui apenas o filho da esquerda\n",
    "    else if (filhoEsquerda <= heap->vetor[0] && heap->vetor[filhoEsquerda] > heap->vetor[maior]) {\n",
    "        maior = filhoEsquerda;\n",
    "    }\n",
    "    // Nodo pai possui apenas o filho da direita\n",
    "    else if (filhoDireita <= heap->vetor[0] && heap->vetor[filhoDireita] > heap->vetor[maior]) {\n",
    "        maior = filhoDireita;\n",
    "    }\n",
    "    // Se um dos filhos é maior do que o pai, o maior filho assume o lugar do pai\n",
    "    if (maior != i) {\n",
    "        troca(&heap->vetor[i], &heap->vetor[maior]);\n",
    "        heapify(heap, maior);\n",
    "    }\n",
    "}\n",
    "\n",
    "MaxHeap* criarMaxHeap(int capacidade) {\n",
    "    MaxHeap* heap = (MaxHeap*) malloc(sizeof(MaxHeap));\n",
    "    heap->vetor = (int*) malloc(capacidade * sizeof(int));\n",
    "    heap->vetor[0] = 0;\n",
    "    heap->capacidade = capacidade;\n",
    "    return heap;\n",
    "}\n",
    "\n",
    "void inserir(MaxHeap* heap, int chave) {\n",
    "    if (heap != NULL && heap->vetor != NULL) {\n",
    "        \n",
    "        // Se o heap estiver vazio, a chave é insirida na raiz\n",
    "        if (heap->vetor[0] == 0) {\n",
    "            heap->vetor[1] = chave;\n",
    "            heap->vetor[0]++;\n",
    "        }\n",
    "        else {\n",
    "            // Se o heap estiver cheio, sua capacidade é dobrada antes da inserção da chave.        \n",
    "            if (heap->vetor[0] == heap->capacidade) {\n",
    "                int* vet = realloc(heap->vetor, heap->capacidade * 2);\n",
    "\n",
    "                if (vet != NULL) {\n",
    "                    heap->vetor = vet;\n",
    "                }\n",
    "                else {\n",
    "                    printf(\"Heap cheio! Não é possível inserir mais elementos.\\n\");\n",
    "                    return;\n",
    "                }\n",
    "            }\n",
    "            heap->vetor[0]++;\n",
    "            int i = heap->vetor[0];\n",
    "            int pai = i / 2;\n",
    "            heap->vetor[i] = chave;\n",
    "\n",
    "            while (i > 1 && heap->vetor[i] > heap->vetor[pai]) {\n",
    "                troca(&heap->vetor[i], &heap->vetor[pai]);\n",
    "                i = pai;\n",
    "                pai = i / 2;\n",
    "            }\n",
    "        }\n",
    "    }\n",
    "}\n",
    "\n",
    "int remover(MaxHeap* heap) {\n",
    "    if (heap != NULL && heap->vetor != NULL) {    \n",
    "        if (heap->vetor[0] == 0) {\n",
    "            printf(\"Heap vazio!\\n\");\n",
    "            return -1;\n",
    "        }\n",
    "        int raiz = heap->vetor[1];\n",
    "        heap->vetor[1] = heap->vetor[heap->vetor[0] - 1];\n",
    "        heap->vetor[0]--;\n",
    "        heapify(heap, 1);\n",
    "        return raiz;\n",
    "    }\n",
    "}\n",
    "\n",
    "void imprimirHeap(MaxHeap* heap) {\n",
    "    if (heap != NULL && heap->vetor != NULL) {\n",
    "        if (heap->vetor[0] == 0) {\n",
    "            printf(\"Heap vazio!\\n\");\n",
    "        }\n",
    "        else {\n",
    "            printf(\"Heap: \");\n",
    "            for (int i = 0; i < heap->vetor[0]; i++) {\n",
    "                printf(\"%d \", heap->vetor[i]);\n",
    "            }\n",
    "            printf(\"\\n\");\n",
    "        }\n",
    "    }\n",
    "}\n",
    "\n",
    "void destruirHeap(MaxHeap* heap) {\n",
    "    free(heap->vetor);\n",
    "    free(heap);\n",
    "}"
   ]
  },
  {
   "cell_type": "markdown",
   "metadata": {},
   "source": [
    "Arquivo main.c, usado para testes:"
   ]
  },
  {
   "cell_type": "code",
   "execution_count": 7,
   "metadata": {},
   "outputs": [
    {
     "name": "stdout",
     "output_type": "stream",
     "text": [
      "Writing main.c\n"
     ]
    }
   ],
   "source": [
    "%%file main.c\n",
    "\n",
    "#include <stdio.h>\n",
    "#include \"MaxHeap.h\"\n",
    "\n",
    "int main() {\n",
    "    MaxHeap* heap = criarMaxHeap(10);\n",
    "\n",
    "    inserir(heap, 10);\n",
    "    inserir(heap, 20);\n",
    "    inserir(heap, 5);\n",
    "    inserir(heap, 15);\n",
    "    inserir(heap, 25);\n",
    "\n",
    "    imprimirHeap(heap);\n",
    "    printf(\"Elementos removidos em ordem crescente: \");\n",
    "\n",
    "    while (heap->vetor[0] > 0) {\n",
    "        printf(\"%d \", remover(heap));\n",
    "    }\n",
    "    printf(\"\\n\");\n",
    "\n",
    "    imprimirHeap(heap);\n",
    "    destruirHeap(heap);\n",
    "\n",
    "    return 0;\n",
    "}"
   ]
  },
  {
   "cell_type": "markdown",
   "metadata": {},
   "source": [
    "Para compilar o projeto você pode usar os seguintes comandos:\n",
    "- COMPILAÇÃO: gcc main.c MaxHeap.c -o exe\n",
    "- EXECUÇÃO: ./exe"
   ]
  }
 ],
 "metadata": {
  "kernelspec": {
   "display_name": "Python 3",
   "language": "python",
   "name": "python3"
  },
  "language_info": {
   "codemirror_mode": {
    "name": "ipython",
    "version": 3
   },
   "file_extension": ".py",
   "mimetype": "text/x-python",
   "name": "python",
   "nbconvert_exporter": "python",
   "pygments_lexer": "ipython3",
   "version": "3.8.10"
  }
 },
 "nbformat": 4,
 "nbformat_minor": 2
}
